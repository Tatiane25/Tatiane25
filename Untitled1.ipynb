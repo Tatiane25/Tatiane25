{
  "nbformat": 4,
  "nbformat_minor": 0,
  "metadata": {
    "colab": {
      "provenance": [],
      "authorship_tag": "ABX9TyNbExkqL7JqU2BuPcJtloox",
      "include_colab_link": true
    },
    "kernelspec": {
      "name": "python3",
      "display_name": "Python 3"
    },
    "language_info": {
      "name": "python"
    }
  },
  "cells": [
    {
      "cell_type": "markdown",
      "metadata": {
        "id": "view-in-github",
        "colab_type": "text"
      },
      "source": [
        "<a href=\"https://colab.research.google.com/github/Tatiane25/Tatiane25/blob/main/Untitled1.ipynb\" target=\"_parent\"><img src=\"https://colab.research.google.com/assets/colab-badge.svg\" alt=\"Open In Colab\"/></a>"
      ]
    },
    {
      "cell_type": "code",
      "execution_count": 6,
      "metadata": {
        "colab": {
          "base_uri": "https://localhost:8080/",
          "height": 106
        },
        "id": "YqB5hwwgB9tt",
        "outputId": "8f1a1aeb-3b63-4810-f4a0-38c006f56c02"
      },
      "outputs": [
        {
          "output_type": "error",
          "ename": "IndentationError",
          "evalue": "expected an indented block after 'elif' statement on line 11 (<ipython-input-6-5ca23e691c08>, line 13)",
          "traceback": [
            "\u001b[0;36m  File \u001b[0;32m\"<ipython-input-6-5ca23e691c08>\"\u001b[0;36m, line \u001b[0;32m13\u001b[0m\n\u001b[0;31m    print(\"Aprovado\")\u001b[0m\n\u001b[0m    ^\u001b[0m\n\u001b[0;31mIndentationError\u001b[0m\u001b[0;31m:\u001b[0m expected an indented block after 'elif' statement on line 11\n"
          ]
        }
      ],
      "source": [
        "nota = 4\n",
        "\n",
        "if (nota<4):\n",
        "\n",
        "   print(\"Reprovado\")\n",
        "\n",
        "elif (nota<7):\n",
        "\n",
        "   print(\"Em recuperação\")\n",
        "\n",
        "elif(nota>=7):\n",
        "\n",
        "print(\"Aprovado\")\n"
      ]
    },
    {
      "cell_type": "code",
      "source": [
        "nota= 4"
      ],
      "metadata": {
        "id": "rqM4mCvLEagv"
      },
      "execution_count": 7,
      "outputs": []
    },
    {
      "cell_type": "code",
      "source": [
        "from __future__ import print_function\n",
        "if(nota<4):\n",
        "   print(\"reprovado\")\n",
        "elif(nota<7):\n",
        "   print(\"em recuperação\")\n",
        "elif(nota>=7):\n",
        "   print(\"aprovado\")"
      ],
      "metadata": {
        "colab": {
          "base_uri": "https://localhost:8080/"
        },
        "id": "VMPhwsF9EexT",
        "outputId": "04bbbd95-5695-4aae-cc5e-629b44fdda5f"
      },
      "execution_count": 8,
      "outputs": [
        {
          "output_type": "stream",
          "name": "stdout",
          "text": [
            "em recuperação\n"
          ]
        }
      ]
    },
    {
      "cell_type": "code",
      "source": [],
      "metadata": {
        "id": "l5sosR62JK9j"
      },
      "execution_count": null,
      "outputs": []
    }
  ]
}